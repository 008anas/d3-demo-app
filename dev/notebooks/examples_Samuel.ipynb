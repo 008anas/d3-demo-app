{
 "cells": [
  {
   "cell_type": "markdown",
   "metadata": {},
   "source": [
    "# BIOROBOOST"
   ]
  },
  {
   "cell_type": "code",
   "execution_count": 3,
   "metadata": {},
   "outputs": [],
   "source": [
    "import bioroboost as br\n",
    "import tools as brt\n",
    "\n",
    "%matplotlib inline\n",
    "%load_ext autoreload\n",
    "%autoreload 2"
   ]
  },
  {
   "cell_type": "code",
   "execution_count": null,
   "metadata": {
    "collapsed": true
   },
   "outputs": [],
   "source": [
    "a = {1:2, 3:4}\n",
    "[{'start':k, 'score':v} for k, v in a.items()]"
   ]
  },
  {
   "cell_type": "code",
   "execution_count": null,
   "metadata": {
    "collapsed": true
   },
   "outputs": [],
   "source": [
    "brt.RNAstructure_scoring('ccccccccccccccccccctttttttggggggggggggggg')"
   ]
  },
  {
   "cell_type": "code",
   "execution_count": null,
   "metadata": {
    "collapsed": true
   },
   "outputs": [],
   "source": [
    "# load matrix\n",
    "\n",
    "m = br.load_matrix(inFile='./data/pribnow_mpneumoniae.txt', residue_type='DNA')"
   ]
  },
  {
   "cell_type": "code",
   "execution_count": 21,
   "metadata": {},
   "outputs": [
    {
     "ename": "NameError",
     "evalue": "name 'evaluate_seq' is not defined",
     "output_type": "error",
     "traceback": [
      "\u001b[0;31m---------------------------------------------------------------------------\u001b[0m",
      "\u001b[0;31mNameError\u001b[0m                                 Traceback (most recent call last)",
      "\u001b[0;32m<ipython-input-21-9a3661b7c8a2>\u001b[0m in \u001b[0;36m<module>\u001b[0;34m\u001b[0m\n\u001b[0;32m----> 1\u001b[0;31m \u001b[0mevaluate_seq\u001b[0m\u001b[0;34m(\u001b[0m\u001b[0;34m'ATATAATAAAATATATAAAATATAATAATT'\u001b[0m\u001b[0;34m,\u001b[0m\u001b[0;34m'./data/pribnow_mpneumoniae.txt'\u001b[0m\u001b[0;34m,\u001b[0m \u001b[0mcircular\u001b[0m\u001b[0;34m=\u001b[0m\u001b[0;32mFalse\u001b[0m\u001b[0;34m)\u001b[0m\u001b[0;34m\u001b[0m\u001b[0;34m\u001b[0m\u001b[0m\n\u001b[0m",
      "\u001b[0;31mNameError\u001b[0m: name 'evaluate_seq' is not defined"
     ]
    }
   ],
   "source": [
    "evaluate_seq('ATATAATAAAATATATAAAATATAATAATT','./data/pribnow_mpneumoniae.txt', circular=False)"
   ]
  },
  {
   "cell_type": "code",
   "execution_count": 31,
   "metadata": {},
   "outputs": [
    {
     "name": "stdout",
     "output_type": "stream",
     "text": [
      "\n",
      "\n",
      "--> RNA structure scoring started for window size=20\n",
      "\tRNA structure scoring: Scoring sequence...\n",
      "\tRNA structure scoring: Returning results...\n",
      "--> RNA structure scoring finished.\n",
      "\n",
      "\n",
      "\n",
      "\n",
      "--> RNA structure scoring started for window size=60\n",
      "\tRNA structure scoring: Scoring sequence...\n",
      "\tRNA structure scoring: Returning results...\n",
      "--> RNA structure scoring finished.\n",
      "\n",
      "\n",
      "\n",
      "\n",
      "--> Matrix scoring started for ./data/pribnow_mpneumoniae.txt\n",
      "\tMatrix scoring: Loading scoring matrix...\n",
      "\tMatrix scoring: Scoring sequence...\n",
      "\tMatrix scoring: Returning results...\n",
      "--> Matrix scoring finished.\n",
      "\n",
      "\n"
     ]
    }
   ],
   "source": [
    "matrix_dict = {'promoter':'./data/pribnow_mpneumoniae.txt'}\n",
    "a = brt.checker('ATATAATAAAATATATAAAATATAATAATTGGGGAGCGACCCCCCGGGGGGGGAGAGGCTAGATGCTAG', matrix_dict=matrix_dict)"
   ]
  },
  {
   "cell_type": "code",
   "execution_count": null,
   "metadata": {
    "collapsed": true
   },
   "outputs": [],
   "source": [
    "import numpy as np\n",
    "import pandas as pd\n",
    "\n",
    "def checkmatrix(matrix):\n",
    "    if type(matrix)==str:\n",
    "        matrix = np.array(pd.read_csv(matrix, sep='\\t', header=None))\n",
    "    return matrix\n",
    "\n",
    "def evaluate_seq(seq, matrix, circular=True):\n",
    "    matrix = checkmatrix(matrix)\n",
    "    indexes = {'A':0, 'C':1, 'G':2, 'T':3}    \n",
    "    m = matrix.shape[1]\n",
    "    l = len(seq)\n",
    "    if l<m:\n",
    "        sys.exit('Sequence to evaluate shorter than matrix\\n')\n",
    "    elif l==m:\n",
    "        # Score\n",
    "        return {'score':sum([matrix[indexes[seq[i]]][i] for i in range(m)]) }\n",
    "    else:\n",
    "        if circular:\n",
    "            seq = seq+seq\n",
    "            limit = l\n",
    "        else:\n",
    "            limit = l-m+1\n",
    "        rs = {n:evaluate_seq(seq[n:n+m], matrix)['score'] for n in range(0, limit)}\n",
    "    return rs"
   ]
  },
  {
   "cell_type": "code",
   "execution_count": null,
   "metadata": {
    "collapsed": true
   },
   "outputs": [],
   "source": [
    "evaluate_seq('ATATAATAAAATATATAAAATATAATAATT','../files/pribnow_matrix.txt', circular=False)"
   ]
  },
  {
   "cell_type": "code",
   "execution_count": null,
   "metadata": {
    "collapsed": true
   },
   "outputs": [],
   "source": [
    "sorted(['G','P','A','V','L','I','M','C','F','Y','W','H','K','R','Q','N','E','D','S','T'])"
   ]
  },
  {
   "cell_type": "code",
   "execution_count": 3,
   "metadata": {},
   "outputs": [
    {
     "name": "stdout",
     "output_type": "stream",
     "text": [
      "promoter1 checker not implemented, it will not be calculated.\n"
     ]
    },
    {
     "data": {
      "text/plain": [
       "{'NTPi', 'codon_adaptation', 'terminator'}"
      ]
     },
     "execution_count": 3,
     "metadata": {},
     "output_type": "execute_result"
    }
   ],
   "source": [
    "brt.checker('ATTTGATGCTA', elements=['promoter1', 'terminator', 'codon_adaptation', 'NTPi'])"
   ]
  },
  {
   "cell_type": "code",
   "execution_count": 23,
   "metadata": {},
   "outputs": [
    {
     "data": {
      "text/plain": [
       "27"
      ]
     },
     "execution_count": 23,
     "metadata": {},
     "output_type": "execute_result"
    }
   ],
   "source": [
    "len('ATATAATAAAATATATAAAATATA')\n",
    "len('TAAAATATATAAAATGATATAATA')"
   ]
  },
  {
   "cell_type": "code",
   "execution_count": 26,
   "metadata": {},
   "outputs": [
    {
     "data": {
      "text/plain": [
       "'hell'"
      ]
     },
     "execution_count": 26,
     "metadata": {},
     "output_type": "execute_result"
    }
   ],
   "source": [
    "a = 1\n",
    "'hellp'[:-1]"
   ]
  },
  {
   "cell_type": "code",
   "execution_count": 50,
   "metadata": {},
   "outputs": [
    {
     "name": "stdout",
     "output_type": "stream",
     "text": [
      "\n",
      "\n",
      "--> Matrix scoring started for ./data/utr5_mpneumoniae.txt\n",
      "\tMatrix scoring: Loading scoring matrix...\n",
      "\tMatrix scoring: Scoring sequence...\n",
      "5 ATAAAATATATAAAATGATATAATATG\n",
      "5 ATAAAATATATAAAATGATATAAT\n",
      "9 AATATATAAAATGATATAATATGATTG\n",
      "9 AATATATAAAATGATATAATATGA\n",
      "43 ACCCCCCGGGGGGGGAGAGGCTAGATG\n",
      "43 ACCCCCCGGGGGGGGAGAGGCTAG\n",
      "69 GCTAGATATAATAAAATATATAAAATG\n",
      "69 GCTAGATATAATAAAATATATAAA\n",
      "\tMatrix scoring: Returning results...\n",
      "--> Matrix scoring finished.\n",
      "\n",
      "\n"
     ]
    }
   ],
   "source": [
    "# UTR \n",
    "# FIXED\n",
    "\n",
    "matrix_dict = {'utr5':'./data/utr5_mpneumoniae.txt'}\n",
    "a = brt.fixed_matrix_scoring('ATATAATAAAATATATAAAATGATATAATATGATTGGGGAGCGACCCCCCGGGGGGGGAGAGGCTAGATGCTAG', matrix=matrix_dict['utr5'], circular=True, mode=1)\n",
    "\n"
   ]
  },
  {
   "cell_type": "code",
   "execution_count": 51,
   "metadata": {},
   "outputs": [
    {
     "data": {
      "text/plain": [
       "'[{\"start\": 6, \"score\": 25.15499010799667}, {\"start\": 10, \"score\": 24.85381506275723}, {\"start\": 44, \"score\": 22.72429400635478}, {\"start\": 70, \"score\": 24.5335187392414}]'"
      ]
     },
     "execution_count": 51,
     "metadata": {},
     "output_type": "execute_result"
    }
   ],
   "source": [
    "a\n"
   ]
  },
  {
   "cell_type": "code",
   "execution_count": 48,
   "metadata": {},
   "outputs": [
    {
     "name": "stdout",
     "output_type": "stream",
     "text": [
      "\n",
      "\n",
      "--> Matrix scoring started for ./data/utr5_mpneumoniae.txt\n",
      "\tMatrix scoring: Loading scoring matrix...\n",
      "\tMatrix scoring: Scoring sequence...\n",
      "19 ATGATATAATATGATGTGGGGAGCGAC\n",
      "19 ATATAATATGATGTGGGGAGCGAC\n",
      "29 ATGATGTGGGGAGCGACCCCCCGGGGG\n",
      "29 ATGTGGGGAGCGACCCCCCGGGGG\n",
      "32 ATGTGGGGAGCGACCCCCCGGGGGGGG\n",
      "32 TGGGGAGCGACCCCCCGGGGGGGG\n",
      "34 GTGGGGAGCGACCCCCCGGGGGGGGAG\n",
      "34 GGGAGCGACCCCCCGGGGGGGGAG\n",
      "68 ATGCTAGATATAATAAAATATATAAAA\n",
      "68 CTAGATATAATAAAATATATAAAA\n",
      "\tMatrix scoring: Returning results...\n",
      "--> Matrix scoring finished.\n",
      "\n",
      "\n"
     ]
    }
   ],
   "source": [
    "a = brt.fixed_matrix_scoring('ATATAATAAAATATATAAAATGATATAATATGATGTGGGGAGCGACCCCCCGGGGGGGGAGAGGCTAGATGCTAG', matrix=matrix_dict['utr5'], circular=True, mode=-1)"
   ]
  },
  {
   "cell_type": "code",
   "execution_count": 49,
   "metadata": {},
   "outputs": [
    {
     "data": {
      "text/plain": [
       "'[{\"start\": 20, \"score\": 23.884422975200202}, {\"start\": 30, \"score\": 23.772130130936453}, {\"start\": 33, \"score\": 23.091376609738713}, {\"start\": 35, \"score\": 23.005725234816406}, {\"start\": 69, \"score\": 24.751031237876685}]'"
      ]
     },
     "execution_count": 49,
     "metadata": {},
     "output_type": "execute_result"
    }
   ],
   "source": [
    "a"
   ]
  },
  {
   "cell_type": "code",
   "execution_count": null,
   "metadata": {
    "collapsed": true
   },
   "outputs": [],
   "source": []
  }
 ],
 "metadata": {
  "kernelspec": {
   "display_name": "Python 3",
   "language": "python",
   "name": "python3"
  },
  "language_info": {
   "codemirror_mode": {
    "name": "ipython",
    "version": 3
   },
   "file_extension": ".py",
   "mimetype": "text/x-python",
   "name": "python",
   "nbconvert_exporter": "python",
   "pygments_lexer": "ipython3",
   "version": "3.6.9"
  }
 },
 "nbformat": 4,
 "nbformat_minor": 2
}
